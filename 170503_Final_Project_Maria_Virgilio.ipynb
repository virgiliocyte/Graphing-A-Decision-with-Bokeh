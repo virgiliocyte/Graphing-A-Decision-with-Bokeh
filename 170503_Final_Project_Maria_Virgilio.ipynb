{
 "cells": [
  {
   "cell_type": "markdown",
   "metadata": {},
   "source": [
    "# Final Project\n",
    "### CSCI-E7 Spring 2017\n",
    "#### Due Date: 170503\n",
    "#### Name: Maria Virgilio\n",
    "#### TF: Alan\n",
    "\n"
   ]
  },
  {
   "cell_type": "markdown",
   "metadata": {},
   "source": [
    "# Project Title:\n",
    "\n",
    "# Generating a Bokeh Graph To Represent Decision Criteria For Any Decision\n",
    "\n",
    "### Example decision: What car to buy?\n"
   ]
  },
  {
   "cell_type": "markdown",
   "metadata": {},
   "source": [
    "#### Enter the decision topic and options using the following functions"
   ]
  },
  {
   "cell_type": "code",
   "execution_count": 3,
   "metadata": {
    "collapsed": false
   },
   "outputs": [
    {
     "name": "stdout",
     "output_type": "stream",
     "text": [
      "What can I help you decide today?\n",
      "Please enter the topic: What Car To Buy?\n",
      "Please enter the number of deciding options (eg. 2 or greater): 4\n",
      "Please enter the next choice: Subaru Cross-Trek\n",
      "Please enter the next choice: Honda Fit\n",
      "Please enter the next choice: Honda CRV\n",
      "Please enter the next choice: Toyota Prius\n",
      "What Car To Buy?\n",
      "['Subaru Cross-Trek', 'Honda Fit', 'Honda CRV', 'Toyota Prius']\n"
     ]
    }
   ],
   "source": [
    "def first_decisions():  \n",
    "    \n",
    "    \"\"\"This function asks the user to enter in the number of deciding options.\n",
    "    Then prompts the user to enter in the options. \"\"\"\n",
    "    \n",
    "    number = int((input(\"Please enter the number of deciding options (eg. 2 or greater): \")))\n",
    "    choice = []\n",
    "    if number < 2:\n",
    "        return false\n",
    "\n",
    "    if number == 2:\n",
    "        choice.append(input(\"Please enter the first choice: \")),\n",
    "        choice.append(input(\"Please enter the second choice: \"))\n",
    "        return choice\n",
    "\n",
    "    if number > 2:\n",
    "        for c in range(0, number):\n",
    "            choice.append(input(\"Please enter the next choice: \"))\n",
    "        return choice\n",
    "\n",
    "    return choice\n",
    "    \n",
    "    \n",
    "def decision_topic():\n",
    "    \n",
    "    \"\"\"This function prompts the user to enter the decision topic.\"\"\"\n",
    "    \n",
    "    print (\"What can I help you decide today?\")\n",
    "    decision_category = input(\"Please enter the topic: \")  \n",
    "    \n",
    "    return decision_category\n",
    "#     return {decision_category: []}\n",
    "\n",
    "    \n",
    "    \n",
    "topic = (decision_topic())\n",
    "names = (first_decisions())\n",
    "\n",
    "print (topic) \n",
    "print(names)"
   ]
  },
  {
   "cell_type": "markdown",
   "metadata": {},
   "source": [
    "### Explain what your deciding factors will be and how important they are. \n",
    "\n",
    "#### Add weights/importance to the dictionary 'weighted_factors'\n",
    "\n",
    "weights should be used on a scale from 1 - 5 with 5 being the best score, 1 being the worst"
   ]
  },
  {
   "cell_type": "code",
   "execution_count": 6,
   "metadata": {
    "collapsed": false
   },
   "outputs": [
    {
     "name": "stdout",
     "output_type": "stream",
     "text": [
      "Weighted Factors: {'mileage': 4, 'features': 2, 'snow handling': 4, 'score': 0, 'Fun-ness': 2, 'affordability': 5, 'size': 3, 'maintenance': 4, 'Safety rating': 5}\n"
     ]
    }
   ],
   "source": [
    "# do not enter information for score. this will be tallied at the end\n",
    "\n",
    "weight_factors_list = [('Safety rating', 5), ('size', 3), ('affordability', 5), \n",
    "                                  ('maintenance', 4), ('Fun-ness', 2), ('features', 2), \n",
    "                                  ('snow handling', 4), ('mileage', 4), ('score', 0)]\n",
    "\n",
    "weighted_factors = dict((x,y) for x,y in weight_factors_list)\n",
    "\n",
    "print (\"Weighted Factors:\", weighted_factors)\n"
   ]
  },
  {
   "cell_type": "code",
   "execution_count": null,
   "metadata": {
    "collapsed": true
   },
   "outputs": [],
   "source": [
    "\n",
    "# here are your weighted factors\n",
    "\n",
    "# weighted_factors = {'Safety rating': 5, \n",
    "#                     'size': 3, \n",
    "#                     'affordability': 5, \n",
    "#                     'maintenance': 4, \n",
    "#                     'Fun-ness': 2, \n",
    "#                     'features': 2, \n",
    "#                     'snow handling': 4, \n",
    "#                     'mileage': 4,\n",
    "#                     'score': 0 }\n"
   ]
  },
  {
   "cell_type": "markdown",
   "metadata": {},
   "source": [
    "### Then adjust the score that each option has to reflect how well each option meets the criteria for each factor. \n",
    "\n",
    "Please enter these on a scale from 1 - 10 with 10 being the highest scoring and 1 the lowest."
   ]
  },
  {
   "cell_type": "code",
   "execution_count": 7,
   "metadata": {
    "collapsed": true
   },
   "outputs": [],
   "source": [
    "# rate each of these on a scale from 1 - 10\n",
    "# do not enter information for score. this will be tallied at the end\n",
    "\n",
    "Subaru_cross_trek_factors = {'Safety rating': 7, \n",
    "                            'size': 7, \n",
    "                            'affordability': 5, \n",
    "                            'maintenance': 4, \n",
    "                            'Fun-ness': 7, \n",
    "                            'features': 5, \n",
    "                            'snow handling': 9,\n",
    "                            'mileage': 6,\n",
    "                            'score': 0 }\n",
    "\n",
    "Honda_Fit_factors = {'Safety rating': 7,\n",
    "                     'size': 7, \n",
    "                     'affordability': 9, \n",
    "                     'maintenance': 8, \n",
    "                     'Fun-ness': 7, \n",
    "                     'features': 7, \n",
    "                     'snow handling': 7,\n",
    "                     'mileage': 8,\n",
    "                     'score': 0 }\n",
    "\n",
    "Hinda_CRV_factors = {'Safety rating': 6, \n",
    "                     'size': 4, \n",
    "                     'affordability': 8, \n",
    "                     'maintenance': 8, \n",
    "                     'Fun-ness': 5, \n",
    "                     'features': 7, \n",
    "                     'snow handling': 9,\n",
    "                     'mileage': 7,\n",
    "                     'score': 0 }\n",
    "\n",
    "Toyota_Prius_factors = {'Safety rating': 5, \n",
    "                        'size': 4, \n",
    "                        'affordability': 6, \n",
    "                        'maintenance': 6, \n",
    "                        'Fun-ness': 3, \n",
    "                        'features': 5, \n",
    "                        'snow handling': 4,\n",
    "                        'mileage': 10,\n",
    "                        'score': 0 }"
   ]
  },
  {
   "cell_type": "markdown",
   "metadata": {},
   "source": [
    "#### Apply the weight of each factor to the factor scores for each option by: weight * factor"
   ]
  },
  {
   "cell_type": "code",
   "execution_count": 8,
   "metadata": {
    "collapsed": true
   },
   "outputs": [],
   "source": [
    "# calculate the weighted scores for each car in each category\n",
    "\n",
    "weighted_cross_trek = {k:weighted_factors[k]*Subaru_cross_trek_factors[k] for k in weighted_factors}\n",
    "\n",
    "weighted_honda_fit = {k:weighted_factors[k]*Honda_Fit_factors[k] for k in weighted_factors}\n",
    "\n",
    "weighted_honda_crv = {k:weighted_factors[k]*Hinda_CRV_factors[k] for k in weighted_factors}\n",
    "\n",
    "weighted_toyota_prius = {k:weighted_factors[k]*Toyota_Prius_factors[k] for k in weighted_factors}"
   ]
  },
  {
   "cell_type": "code",
   "execution_count": 9,
   "metadata": {
    "collapsed": false
   },
   "outputs": [
    {
     "name": "stdout",
     "output_type": "stream",
     "text": [
      "{'Fun-ness': 14, 'snow handling': 36, 'affordability': 25, 'score': 0, 'features': 10, 'mileage': 24, 'size': 21, 'maintenance': 16, 'Safety rating': 35}\n",
      "{'Fun-ness': 14, 'snow handling': 28, 'affordability': 45, 'score': 0, 'features': 14, 'mileage': 32, 'size': 21, 'maintenance': 32, 'Safety rating': 35}\n",
      "{'Fun-ness': 10, 'snow handling': 36, 'affordability': 40, 'score': 0, 'features': 14, 'mileage': 28, 'size': 12, 'maintenance': 32, 'Safety rating': 30}\n",
      "{'Fun-ness': 6, 'snow handling': 16, 'affordability': 30, 'score': 0, 'features': 10, 'mileage': 40, 'size': 12, 'maintenance': 24, 'Safety rating': 25}\n"
     ]
    }
   ],
   "source": [
    "# lets take a look at our dictionaries...\n",
    "\n",
    "print(weighted_cross_trek)\n",
    "\n",
    "print (weighted_honda_fit)\n",
    "\n",
    "print(weighted_honda_crv)\n",
    "\n",
    "print(weighted_toyota_prius)"
   ]
  },
  {
   "cell_type": "markdown",
   "metadata": {},
   "source": [
    "#### Now that we have our weighted factors, lets add the total to the key['score']"
   ]
  },
  {
   "cell_type": "code",
   "execution_count": 10,
   "metadata": {
    "collapsed": true
   },
   "outputs": [],
   "source": [
    "# add the sum total as score value. execute only once!\n",
    "\n",
    "weighted_cross_trek['score']= sum(weighted_cross_trek.values())\n",
    "\n",
    "weighted_honda_fit['score']= sum(weighted_honda_fit.values())\n",
    "\n",
    "weighted_honda_crv['score']= sum(weighted_honda_crv.values())\n",
    "\n",
    "weighted_toyota_prius['score']= sum(weighted_toyota_prius.values())"
   ]
  },
  {
   "cell_type": "code",
   "execution_count": 11,
   "metadata": {
    "collapsed": false
   },
   "outputs": [
    {
     "name": "stdout",
     "output_type": "stream",
     "text": [
      "{'Fun-ness': 14, 'snow handling': 36, 'affordability': 25, 'score': 181, 'features': 10, 'mileage': 24, 'size': 21, 'maintenance': 16, 'Safety rating': 35}\n",
      "{'Fun-ness': 14, 'snow handling': 28, 'affordability': 45, 'score': 221, 'features': 14, 'mileage': 32, 'size': 21, 'maintenance': 32, 'Safety rating': 35}\n",
      "{'Fun-ness': 10, 'snow handling': 36, 'affordability': 40, 'score': 202, 'features': 14, 'mileage': 28, 'size': 12, 'maintenance': 32, 'Safety rating': 30}\n",
      "{'Fun-ness': 6, 'snow handling': 16, 'affordability': 30, 'score': 163, 'features': 10, 'mileage': 40, 'size': 12, 'maintenance': 24, 'Safety rating': 25}\n"
     ]
    }
   ],
   "source": [
    "# lets take a look at our dictionaries...\n",
    "\n",
    "print(weighted_cross_trek)\n",
    "\n",
    "print (weighted_honda_fit)\n",
    "\n",
    "print(weighted_honda_crv)\n",
    "\n",
    "print(weighted_toyota_prius)"
   ]
  },
  {
   "cell_type": "markdown",
   "metadata": {},
   "source": [
    "#### Now lets add the name of our option and each option to the appropriate dictionary"
   ]
  },
  {
   "cell_type": "code",
   "execution_count": 12,
   "metadata": {
    "collapsed": true
   },
   "outputs": [],
   "source": [
    "weighted_cross_trek.update({'name': 'Subaru Cross-trek'})\n",
    "\n",
    "weighted_honda_fit.update({'name': 'Honda Fit'})\n",
    "\n",
    "weighted_honda_crv.update({'name': 'Honda CRV'})\n",
    "\n",
    "weighted_toyota_prius.update({'name': 'Toyota Prius'})"
   ]
  },
  {
   "cell_type": "code",
   "execution_count": 13,
   "metadata": {
    "collapsed": false
   },
   "outputs": [
    {
     "name": "stdout",
     "output_type": "stream",
     "text": [
      "{'Fun-ness': 14, 'snow handling': 36, 'affordability': 25, 'score': 181, 'features': 10, 'mileage': 24, 'size': 21, 'maintenance': 16, 'Safety rating': 35, 'name': 'Subaru Cross-trek'}\n",
      "{'Fun-ness': 14, 'snow handling': 28, 'affordability': 45, 'score': 221, 'features': 14, 'mileage': 32, 'size': 21, 'maintenance': 32, 'Safety rating': 35, 'name': 'Honda Fit'}\n",
      "{'Fun-ness': 10, 'snow handling': 36, 'affordability': 40, 'score': 202, 'features': 14, 'mileage': 28, 'size': 12, 'maintenance': 32, 'Safety rating': 30, 'name': 'Honda CRV'}\n",
      "{'Fun-ness': 6, 'snow handling': 16, 'affordability': 30, 'score': 163, 'features': 10, 'mileage': 40, 'size': 12, 'maintenance': 24, 'Safety rating': 25, 'name': 'Toyota Prius'}\n"
     ]
    }
   ],
   "source": [
    "# lets take a look at our dictionaries...\n",
    "\n",
    "print(weighted_cross_trek)\n",
    "\n",
    "print (weighted_honda_fit)\n",
    "\n",
    "print(weighted_honda_crv)\n",
    "\n",
    "print(weighted_toyota_prius)"
   ]
  },
  {
   "cell_type": "markdown",
   "metadata": {},
   "source": [
    "\n",
    "#### Let's put our option dictionaries into a list\n"
   ]
  },
  {
   "cell_type": "code",
   "execution_count": 14,
   "metadata": {
    "collapsed": false
   },
   "outputs": [
    {
     "name": "stdout",
     "output_type": "stream",
     "text": [
      "[{'Fun-ness': 14, 'snow handling': 36, 'affordability': 25, 'score': 181, 'features': 10, 'mileage': 24, 'size': 21, 'maintenance': 16, 'Safety rating': 35, 'name': 'Subaru Cross-trek'}, {'Fun-ness': 14, 'snow handling': 28, 'affordability': 45, 'score': 221, 'features': 14, 'mileage': 32, 'size': 21, 'maintenance': 32, 'Safety rating': 35, 'name': 'Honda Fit'}, {'Fun-ness': 10, 'snow handling': 36, 'affordability': 40, 'score': 202, 'features': 14, 'mileage': 28, 'size': 12, 'maintenance': 32, 'Safety rating': 30, 'name': 'Honda CRV'}, {'Fun-ness': 6, 'snow handling': 16, 'affordability': 30, 'score': 163, 'features': 10, 'mileage': 40, 'size': 12, 'maintenance': 24, 'Safety rating': 25, 'name': 'Toyota Prius'}]\n"
     ]
    }
   ],
   "source": [
    "# make the list of choices \n",
    "choice_list = [weighted_cross_trek, weighted_honda_fit, weighted_honda_crv, weighted_toyota_prius]\n",
    "\n",
    "\n",
    "print (choice_list)"
   ]
  },
  {
   "cell_type": "markdown",
   "metadata": {},
   "source": [
    "#### Now that we have a nice list, we can export the file as a .csv for graphing and storage. \n",
    "\n",
    "#### Note: The data can be used directly in graph and does not need to be saved as .csv\n"
   ]
  },
  {
   "cell_type": "code",
   "execution_count": 15,
   "metadata": {
    "collapsed": true
   },
   "outputs": [],
   "source": [
    "import csv # need to import csv module\n",
    "# this writes to csv such that key = column headers, values = rows\n",
    "keys = choice_list[0].keys()\n",
    "with open('Options_Final_Project.csv', 'w') as output_file:\n",
    "    dict_writer = csv.DictWriter(output_file, keys)\n",
    "    dict_writer.writeheader()\n",
    "    dict_writer.writerows(choice_list)"
   ]
  },
  {
   "cell_type": "markdown",
   "metadata": {},
   "source": [
    "### Now we can proceed to graphing"
   ]
  },
  {
   "cell_type": "markdown",
   "metadata": {},
   "source": [
    "Import all the necessary libraries and build the df from generated csv"
   ]
  },
  {
   "cell_type": "code",
   "execution_count": 25,
   "metadata": {
    "collapsed": false
   },
   "outputs": [
    {
     "name": "stdout",
     "output_type": "stream",
     "text": [
      "   Fun-ness  Safety rating  affordability  features  maintenance  mileage  \\\n",
      "0        14             35             25        10           16       24   \n",
      "1        14             35             45        14           32       32   \n",
      "2        10             30             40        14           32       28   \n",
      "3         6             25             30        10           24       40   \n",
      "\n",
      "                name  score  size  snow handling  \n",
      "0  Subaru Cross-trek    181    21             36  \n",
      "1          Honda Fit    221    21             28  \n",
      "2          Honda CRV    202    12             36  \n",
      "3       Toyota Prius    163    12             16  \n"
     ]
    }
   ],
   "source": [
    "import pandas # for datafram\n",
    "\n",
    "# bokeh.charts is a high-level interface\n",
    "# Bar is the type of plot, output_file = global class, show = allows us to see plot \n",
    "from bokeh.charts import Bar, output_file, show \n",
    "from bokeh.charts.attributes import cat, color\n",
    "from bokeh.charts.operations import blend\n",
    "from bokeh.charts.utils import df_from_json # only if you are importing from json. makes nice df!\n",
    "from bokeh.models import Legend # use this to control Legend placement and orientation\n",
    "\n",
    "# you can use\n",
    "# df= pandas.read_csv(\"/../../../../Options_Final_Project.csv\")\n",
    "\n",
    "# utilize utility to make it easy to get json/dict data converted to a dataframe\n",
    "# df = df_from_json(\"/../../../../Options_Final_Project.json\")\n",
    "\n",
    "#Or use data directly\n",
    "df=pandas.DataFrame(choice_list)\n",
    "\n",
    "\n",
    "print(df)"
   ]
  },
  {
   "cell_type": "markdown",
   "metadata": {},
   "source": [
    "#### After checking the dataframe, lets start graphing!"
   ]
  },
  {
   "cell_type": "code",
   "execution_count": 26,
   "metadata": {
    "collapsed": false
   },
   "outputs": [
    {
     "name": "stderr",
     "output_type": "stream",
     "text": [
      "INFO:bokeh.core.state:Session output file 'Options_Final_Project.html' already exists, will be overwritten.\n"
     ]
    }
   ],
   "source": [
    "\n",
    "# ascending = False makes the score displayed in a descending mannor\n",
    "df = df.sort_values(by=\"score\", ascending=False)\n",
    "\n",
    "# saving Bar object in bar variable\n",
    "#blend multiple factors\n",
    "#then pass df and values user wants to plot = y\n",
    "# cloumns are x values\n",
    "#tooltips allows mouse rollover display of values\n",
    "#stack used to stack values\n",
    "# title was chosen at the beginning and was called 'topic'\n",
    "\n",
    "bar = Bar(df,\n",
    "          values=blend('Safety rating', 'size', 'affordability', 'Fun-ness', 'features', \n",
    "                       'snow handling', 'mileage','maintenance',  name='car', labels_name='factors'),\n",
    "          label=cat(columns='name', sort=False),\n",
    "          stack=cat(columns='factors', sort=False),\n",
    "          color=color(columns='factors', palette=['Red', 'Blue', 'Orange', 'Pink', \n",
    "                                                  'Cyan', 'Yellow', 'Violet', 'Green'],\n",
    "                      sort=False), \n",
    "          legend = 'bottom_right',\n",
    "          title= topic,\n",
    "          tooltips=[('Factor', '@factors')],\n",
    "          responsive= False)\n",
    "\n",
    "#additional attributes for plot\n",
    "bar.title.text_font = 'Times New Roman'\n",
    "bar.title.text_font_size = '20pt'\n",
    "bar.xaxis.axis_label= 'Car Type'\n",
    "bar.yaxis.axis_label= 'Car Score'\n",
    "# bar.legend.orientation = \"horizontal\"\n",
    "\n",
    "# use output_file to make make file in current directory\n",
    "output_file(\"Options_Final_Project.html\", title=\"Options_Final_Project\")\n",
    "\n",
    "#use show method to visualize bar variable \n",
    "show(bar)"
   ]
  },
  {
   "cell_type": "code",
   "execution_count": null,
   "metadata": {
    "collapsed": true
   },
   "outputs": [],
   "source": [
    "# if you want to know more options for your graphing variable\n",
    "help(bar)"
   ]
  }
 ],
 "metadata": {
  "anaconda-cloud": {},
  "kernelspec": {
   "display_name": "Python [conda root]",
   "language": "python",
   "name": "conda-root-py"
  },
  "language_info": {
   "codemirror_mode": {
    "name": "ipython",
    "version": 3
   },
   "file_extension": ".py",
   "mimetype": "text/x-python",
   "name": "python",
   "nbconvert_exporter": "python",
   "pygments_lexer": "ipython3",
   "version": "3.5.2"
  }
 },
 "nbformat": 4,
 "nbformat_minor": 1
}
